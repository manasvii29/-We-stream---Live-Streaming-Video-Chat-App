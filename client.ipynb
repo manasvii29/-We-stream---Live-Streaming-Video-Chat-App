{
 "cells": [
  {
   "cell_type": "code",
   "execution_count": null,
   "metadata": {},
   "outputs": [],
   "source": [
    "import cv2\n",
    "import socket\n",
    "import base64\n",
    "import os\n",
    "import time\n",
    "import threading"
   ]
  },
  {
   "cell_type": "code",
   "execution_count": null,
   "metadata": {},
   "outputs": [],
   "source": [
    " # For sending video\n",
    "def videosender():\n",
    "   \n",
    "    s=socket.socket()\n",
    "    ip=\"13.233.165.127 \" # IP of the server \n",
    "    port=2024\n",
    "    s.connect((ip,port))\n",
    "    cap=cv2.VideoCapture(0)\n",
    "    while True:\n",
    "        time.sleep(2)\n",
    "        ret,photo=cap.read()\n",
    "        cv2.imwrite(\"videocall.jpg\",photo)\n",
    "        cv2.imshow(\"videocall.jpg\",photo)\n",
    "        cv2.waitKey(5)\n",
    "        with open(\"videocall.jpg\", 'rb') as f:\n",
    "            image_encoded=base64.b64encode(f.read()) # Encoding image\n",
    "        s.send(image_encoded)\n",
    "    #cv2.destroyAllWindows()"
   ]
  },
  {
   "cell_type": "code",
   "execution_count": null,
   "metadata": {},
   "outputs": [],
   "source": [
    "def videoreciver1():\n",
    "    s=socket.socket()\n",
    "    ip=\"13.233.165.127 \"\n",
    "    port=2028\n",
    "    s.connect((ip,port))\n",
    "    i=0\n",
    "    while True:\n",
    "        time.sleep(2)\n",
    "        try:\n",
    "            data =s.recv(100000000)\n",
    "            #print(data)\n",
    "            imgdata = base64.b64decode(data)\n",
    "            filename=\"a\"+\"{}.jpg\".format(i)\n",
    "            with open(filename, 'wb') as f:\n",
    "                f.write(imgdata)\n",
    "\n",
    "            image1= \"image1\"+\"{}\".format(i)\n",
    "            image1=cv2.imread(filename)\n",
    "\n",
    "            print(image1)\n",
    "            cv2.imshow('manasvi calling...',image1)\n",
    "            os.remove(\"a\"+\"{}.jpg\".format(i))\n",
    "            i=i+1\n",
    "            if cv2.waitKey(100) == 13:\n",
    "                break\n",
    "\n",
    "        except:\n",
    "            pass\n",
    "    cv2.destroyAllWindows()"
   ]
  },
  {
   "cell_type": "code",
   "execution_count": null,
   "metadata": {},
   "outputs": [],
   "source": [
    "def videoreciver2():\n",
    "    s=socket.socket()\n",
    "    ip=\"13.233.165.127 \"\n",
    "    port=2032\n",
    "    s.connect((ip,port))\n",
    "    i=0\n",
    "    while True:\n",
    "        time.sleep(2)\n",
    "        try:\n",
    "            data =s.recv(100000000)\n",
    "            #print(data)\n",
    "            imgdata = base64.b64decode(data)\n",
    "            filename=\"b\"+\"{}.jpg\".format(i)\n",
    "            with open(filename, 'wb') as f:\n",
    "                f.write(imgdata)\n",
    "\n",
    "            image2= \"image2\"+\"{}\".format(i)\n",
    "            image2=cv2.imread(filename)\n",
    "\n",
    "            print(image2)\n",
    "            cv2.imshow('digamber calling...',image2)\n",
    "            os.remove(\"b\"+\"{}.jpg\".format(i))\n",
    "            i=i+1\n",
    "            if cv2.waitKey(100) == 13:\n",
    "                break\n",
    "\n",
    "        except:\n",
    "            pass\n",
    "    cv2.destroyAllWindows()"
   ]
  },
  {
   "cell_type": "code",
   "execution_count": null,
   "metadata": {},
   "outputs": [],
   "source": [
    "t_send=threading.Thread(target=videosender)\n",
    "t_recv1=threading.Thread(target=videoreciver1)\n",
    "t_recv2=threading.Thread(target=videoreciver2)\n",
    "#t_recv3=threading.Thread(target=videoreciver3)\n",
    "\n",
    "t_send.start()\n",
    "t_recv1.start()\n",
    "t_recv2.start()\n",
    "#t_recv3.start()\n"
   ]
  },
  {
   "cell_type": "code",
   "execution_count": null,
   "metadata": {},
   "outputs": [],
   "source": []
  },
  {
   "cell_type": "code",
   "execution_count": null,
   "metadata": {},
   "outputs": [],
   "source": []
  },
  {
   "cell_type": "code",
   "execution_count": null,
   "metadata": {},
   "outputs": [],
   "source": []
  },
  {
   "cell_type": "code",
   "execution_count": null,
   "metadata": {},
   "outputs": [],
   "source": []
  },
  {
   "cell_type": "code",
   "execution_count": null,
   "metadata": {},
   "outputs": [],
   "source": [
    "def videoreciver3():\n",
    "    s=socket.socket()\n",
    "    ip=\"65.1.133.105\"\n",
    "    port=2027\n",
    "    s.connect((ip,port))\n",
    "    i=0\n",
    "    while True:\n",
    "        time.sleep(2)\n",
    "        try:\n",
    "            data =s.recv(100000000)\n",
    "            #print(data)\n",
    "            imgdata = base64.b64decode(data)\n",
    "            filename=\"c\"+\"{}.jpg\".format(i)\n",
    "            with open(filename, 'wb') as f:\n",
    "                f.write(imgdata)\n",
    "\n",
    "            image3= \"image3\"+\"{}\".format(i)\n",
    "            image3=cv2.imread(filename)\n",
    "\n",
    "            print(image3)\n",
    "            cv2.imshow('Aman calling...',image3)\n",
    "            os.remove(\"c\"+\"{}.jpg\".format(i))\n",
    "            i=i+1\n",
    "            if cv2.waitKey(100) == 13:\n",
    "                break\n",
    "\n",
    "        except:\n",
    "            pass\n",
    "    cv2.destroyAllWindows()"
   ]
  }
 ],
 "metadata": {
  "kernelspec": {
   "display_name": "Python 3",
   "language": "python",
   "name": "python3"
  },
  "language_info": {
   "codemirror_mode": {
    "name": "ipython",
    "version": 3
   },
   "file_extension": ".py",
   "mimetype": "text/x-python",
   "name": "python",
   "nbconvert_exporter": "python",
   "pygments_lexer": "ipython3",
   "version": "3.8.8"
  }
 },
 "nbformat": 4,
 "nbformat_minor": 4
}
